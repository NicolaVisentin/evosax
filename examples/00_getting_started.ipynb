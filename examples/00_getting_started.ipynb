{
 "cells": [
  {
   "cell_type": "markdown",
   "id": "ce660e6c-1d05-413d-8dd3-9a3de2671276",
   "metadata": {},
   "source": [
    "# 00 - Getting Started with `evosax` - The Ask-Eval-Tell API [![Colab](https://colab.research.google.com/assets/colab-badge.svg)](https://colab.research.google.com/github/RobertTLange/evosax/blob/main/examples/00_getting_started.ipynb)"
   ]
  },
  {
   "cell_type": "markdown",
   "id": "be4a4b65",
   "metadata": {},
   "source": [
    "## Installation"
   ]
  },
  {
   "cell_type": "markdown",
   "id": "8a8e212b",
   "metadata": {},
   "source": [
    "You will need Python 3.10 or later, and a working JAX installation. For example, you can install JAX on NVIDIA GPU with:"
   ]
  },
  {
   "cell_type": "code",
   "execution_count": null,
   "id": "519d0fe5",
   "metadata": {},
   "outputs": [],
   "source": [
    "%pip install -U \"jax[cuda]\""
   ]
  },
  {
   "cell_type": "markdown",
   "id": "4bd5dc1c",
   "metadata": {},
   "source": [
    "Then, install `evosax` from PyPi:"
   ]
  },
  {
   "cell_type": "code",
   "execution_count": 2,
   "id": "99e7d883-ecfc-4602-9b8f-816844f7d212",
   "metadata": {},
   "outputs": [],
   "source": [
    "%pip install -U \"evosax[examples]\""
   ]
  },
  {
   "cell_type": "markdown",
   "id": "9afad8f3",
   "metadata": {},
   "source": [
    "## Import"
   ]
  },
  {
   "cell_type": "code",
   "execution_count": 1,
   "id": "cc38a981",
   "metadata": {},
   "outputs": [],
   "source": [
    "import jax\n",
    "import jax.numpy as jnp\n",
    "import matplotlib.pyplot as plt"
   ]
  },
  {
   "cell_type": "code",
   "execution_count": 2,
   "id": "c2b19aae",
   "metadata": {},
   "outputs": [],
   "source": [
    "seed = 0\n",
    "key = jax.random.key(seed)"
   ]
  },
  {
   "cell_type": "markdown",
   "id": "95fd4439",
   "metadata": {},
   "source": [
    "## Problem - Classic Black Box Optimization Benchmark"
   ]
  },
  {
   "cell_type": "code",
   "execution_count": 6,
   "id": "6f8280f5",
   "metadata": {},
   "outputs": [],
   "source": [
    "from evosax.problems import BBOBProblem as Problem\n",
    "\n",
    "num_dims = 2\n",
    "fn_name = \"rosenbrock\"\n",
    "\n",
    "problem = Problem(\n",
    "    fn_name=fn_name,\n",
    "    num_dims=num_dims,\n",
    "    x_opt=2.5 * jnp.ones(num_dims),\n",
    "    f_opt=0.0,\n",
    "    sample_rotations=False,\n",
    "    seed=seed,\n",
    ")"
   ]
  },
  {
   "cell_type": "markdown",
   "id": "286b9fb3-556a-491a-b1fb-c1c3181beca0",
   "metadata": {},
   "source": [
    "## Evolution Strategy - CMA-ES"
   ]
  },
  {
   "cell_type": "code",
   "execution_count": 7,
   "id": "9dee8f4d-9ce8-4f5b-8d9a-ccde409dd873",
   "metadata": {},
   "outputs": [],
   "source": [
    "from evosax.algorithms import CMA_ES as ES\n",
    "\n",
    "num_generations = 64\n",
    "population_size = 16\n",
    "\n",
    "# Instantiate evolution strategy\n",
    "key, subkey = jax.random.split(key)\n",
    "solution = problem.sample(subkey)\n",
    "es = ES(\n",
    "    population_size=population_size,\n",
    "    solution=solution,  # requires a dummy solution\n",
    ")\n",
    "\n",
    "# Use default parameters\n",
    "params = es.default_params\n",
    "\n",
    "# Initialize evolution strategy\n",
    "key, subkey = jax.random.split(key)\n",
    "state = es.init(subkey, solution, params)"
   ]
  },
  {
   "cell_type": "code",
   "execution_count": 18,
   "id": "fe25830e",
   "metadata": {},
   "outputs": [
    {
     "data": {
      "text/plain": [
       "Params(std_init=1.0, std_min=0.0, std_max=100000000.0, weights=Array([ 0.3284362 ,  0.22205882,  0.15983205,  0.11568144,  0.08143557,\n",
       "        0.05345466,  0.02979713,  0.00930406, -0.01924819, -0.05472849,\n",
       "       -0.08682434, -0.11612552, -0.14308   , -0.168036  , -0.19126943,\n",
       "       -0.21300286], dtype=float32), mu_eff=Array(4.8409142, dtype=float32), c_mean=1.0, c_std=Array(0.5777353, dtype=float32), d_std=Array(1.8407463, dtype=float32), c_c=Array(0.5922432, dtype=float32), c_1=Array(0.1271382, dtype=float32), c_mu=Array(0.2924523, dtype=float32), chi_n=Array(1.2542727, dtype=float32, weak_type=True))"
      ]
     },
     "execution_count": 18,
     "metadata": {},
     "output_type": "execute_result"
    }
   ],
   "source": [
    "params  # You can have a look at the parameters and change those if desired"
   ]
  },
  {
   "cell_type": "markdown",
   "id": "3a0aa223",
   "metadata": {},
   "source": [
    "## Run one generation"
   ]
  },
  {
   "cell_type": "markdown",
   "id": "a9c44718",
   "metadata": {},
   "source": [
    "With our initialized evolutionary strategy, we can now proceed with the optimization process.\n",
    "\n",
    "1. We `ask` the strategy to generate a set of candidate solutions.\n",
    "\n",
    "2. We `eval` these candidates on our objective function.\n",
    "\n",
    "3. We `tell` the strategy about the evaluation results, allowing it to update its internal state based on this feedback.\n",
    "\n",
    "This ask-evaluate-tell cycle forms the core iteration loop of our evolutionary optimization process."
   ]
  },
  {
   "cell_type": "code",
   "execution_count": 19,
   "id": "e8982ce5-91b0-4ccc-ba46-2c69d4f11287",
   "metadata": {},
   "outputs": [],
   "source": [
    "key, subkey = jax.random.split(key)\n",
    "key_ask, key_eval, key_tell = jax.random.split(subkey, 3)\n",
    "\n",
    "# Generate a set of candidate solutions to evaluate\n",
    "population, state = es.ask(key_ask, state, params)\n",
    "\n",
    "# Evaluate the fitness of the population\n",
    "fitness, info = problem.eval(key_eval, population)\n",
    "\n",
    "# Update the evolution strategy\n",
    "state, metrics = es.tell(key_tell, population, fitness, state, params)"
   ]
  },
  {
   "cell_type": "markdown",
   "id": "d547fa66-813b-4acf-b99e-fcc0d34a3277",
   "metadata": {},
   "source": [
    "## Run"
   ]
  },
  {
   "cell_type": "code",
   "execution_count": 23,
   "id": "791a2d65-7404-40a2-9c4b-4a1e1ac12dfa",
   "metadata": {},
   "outputs": [],
   "source": [
    "key, subkey = jax.random.split(key)\n",
    "state = es.init(subkey, solution, params)\n",
    "\n",
    "metrics_log = []\n",
    "for i in range(num_generations):\n",
    "    key, subkey = jax.random.split(key)\n",
    "    key_ask, key_eval, key_tell = jax.random.split(subkey, 3)\n",
    "\n",
    "    population, state = es.ask(key_ask, state, params)\n",
    "\n",
    "    fitness, info = problem.eval(key_eval, population)\n",
    "\n",
    "    state, metrics = es.tell(key_tell, population, fitness, state, params)\n",
    "\n",
    "    # Log metrics\n",
    "    metrics_log.append(metrics)"
   ]
  },
  {
   "cell_type": "code",
   "execution_count": 35,
   "id": "1561dbf0",
   "metadata": {},
   "outputs": [
    {
     "data": {
      "image/png": "[encoded data removed]",
      "text/plain": [
       "<Figure size 1000x500 with 1 Axes>"
      ]
     },
     "metadata": {},
     "output_type": "display_data"
    }
   ],
   "source": [
    "# Extract the best fitness values across generations\n",
    "generations = [metrics[\"generation_counter\"] for metrics in metrics_log]\n",
    "best_fitness = [metrics[\"best_fitness\"] for metrics in metrics_log]\n",
    "\n",
    "plt.figure(figsize=(10, 5))\n",
    "plt.plot(generations, best_fitness, label=\"Best Fitness\", marker=\"o\", markersize=3)\n",
    "\n",
    "plt.title(\"Best fitness over generations\")\n",
    "plt.xlabel(\"Generation\")\n",
    "plt.ylabel(\"Fitness\")\n",
    "plt.grid(True, alpha=0.3)\n",
    "plt.tight_layout()\n",
    "plt.show()"
   ]
  },
  {
   "cell_type": "markdown",
   "id": "4d1192e9",
   "metadata": {},
   "source": [
    "## Fitness Shaping"
   ]
  },
  {
   "cell_type": "markdown",
   "id": "34e122cd",
   "metadata": {},
   "source": [
    "Evolutionary Algorithms implemented in `evosax` will always minimize the objective. If you want to maximize instead, you should simply add a minus sign to the fitness when you provide it to `tell`.\n",
    "\n",
    "```python\n",
    "fitness, info = problem.eval(key_eval, population)  # Fitness to maximize\n",
    "state, metrics = es.tell(key_tell, population, -fitness, state, params)  # add minus sign to maximize\n",
    "```\n",
    "\n",
    "Evolution strategies in `evosax` have a default `fitness_shaping_fn`, that can be override. For example, the default `fitness_shaping_fn` for `Open_ES` is the centered rank fitness between but it can be replaced by any fitness shaping function in `evosax.core.fitness_shaping`."
   ]
  },
  {
   "cell_type": "code",
   "execution_count": 37,
   "id": "9c488bab",
   "metadata": {},
   "outputs": [],
   "source": [
    "from evosax.algorithms import Open_ES as ES\n",
    "from evosax.core.fitness_shaping import add_weight_decay, standardize_fitness_shaping_fn\n",
    "\n",
    "# Add weight decay and change the default fitness shaping function to standardize (z-score)\n",
    "fitness_shaping_fn = add_weight_decay(standardize_fitness_shaping_fn, weight_decay=0.01)\n",
    "\n",
    "num_generations = 64\n",
    "population_size = 16\n",
    "\n",
    "# Instantiate evolution strategy\n",
    "key, subkey = jax.random.split(key)\n",
    "solution = problem.sample(subkey)\n",
    "es = ES(\n",
    "    population_size=population_size,\n",
    "    solution=solution,  # requires a dummy solution\n",
    "    fitness_shaping_fn=fitness_shaping_fn,\n",
    ")\n",
    "\n",
    "# Use default parameters\n",
    "params = es.default_params"
   ]
  },
  {
   "cell_type": "code",
   "execution_count": 39,
   "id": "119d86ab",
   "metadata": {},
   "outputs": [
    {
     "data": {
      "image/png": "[encoded data removed]",
      "text/plain": [
       "<Figure size 1000x500 with 1 Axes>"
      ]
     },
     "metadata": {},
     "output_type": "display_data"
    }
   ],
   "source": [
    "# Extract the best fitness values across generations\n",
    "generations = [metrics[\"generation_counter\"] for metrics in metrics_log]\n",
    "best_fitness = [metrics[\"best_fitness\"] for metrics in metrics_log]\n",
    "\n",
    "plt.figure(figsize=(10, 5))\n",
    "plt.plot(generations, best_fitness, label=\"Best Fitness\", marker=\"o\", markersize=3)\n",
    "\n",
    "plt.title(\"Best fitness over generations\")\n",
    "plt.xlabel(\"Generation\")\n",
    "plt.ylabel(\"Fitness\")\n",
    "plt.grid(True, alpha=0.3)\n",
    "plt.tight_layout()\n",
    "plt.show()"
   ]
  },
  {
   "cell_type": "markdown",
   "id": "a17033f5",
   "metadata": {},
   "source": [
    "## Metrics"
   ]
  },
  {
   "cell_type": "markdown",
   "id": "c2fa555a",
   "metadata": {},
   "source": [
    "`evosax` provides various built-in metrics functions, but you can also define your own custom metrics function to include additional information or exclude metrics you don't need. For example, in the following example, we define a custom metrics function to log the diagonal matrix `D` used within Sep-CMA-ES."
   ]
  },
  {
   "cell_type": "code",
   "execution_count": 8,
   "id": "e2a7296d",
   "metadata": {},
   "outputs": [],
   "source": [
    "from evosax.algorithms import Sep_CMA_ES as ES\n",
    "from evosax.algorithms.distribution_based.base import metrics_fn\n",
    "\n",
    "\n",
    "def custom_metrics_fn(\n",
    "    key,\n",
    "    population,\n",
    "    fitness,\n",
    "    state,\n",
    "    params,\n",
    "):\n",
    "    metrics = metrics_fn(key, population, fitness, state, params)\n",
    "    return metrics | {\n",
    "        \"D\": state.D,\n",
    "    }\n",
    "\n",
    "\n",
    "es = ES(\n",
    "    population_size=population_size,\n",
    "    solution=solution,  # requires a dummy solution\n",
    "    metrics_fn=custom_metrics_fn,\n",
    ")\n",
    "\n",
    "# Use default parameters\n",
    "params = es.default_params"
   ]
  },
  {
   "cell_type": "code",
   "execution_count": 9,
   "id": "096a4e1c",
   "metadata": {},
   "outputs": [],
   "source": [
    "key, subkey = jax.random.split(key)\n",
    "state = es.init(subkey, solution, params)\n",
    "\n",
    "key, subkey = jax.random.split(key)\n",
    "key_ask, key_eval, key_tell = jax.random.split(subkey, 3)\n",
    "\n",
    "population, state = es.ask(key_ask, state, params)\n",
    "\n",
    "fitness, info = problem.eval(key_eval, population)\n",
    "\n",
    "state, metrics = es.tell(key_tell, population, fitness, state, params)"
   ]
  },
  {
   "cell_type": "code",
   "execution_count": 10,
   "id": "2856f8e9",
   "metadata": {},
   "outputs": [
    {
     "name": "stdout",
     "output_type": "stream",
     "text": [
      "dict_keys(['D', 'best_fitness', 'best_fitness_in_generation', 'best_solution', 'best_solution_in_generation', 'best_solution_norm', 'generation_counter', 'mean', 'mean_norm'])\n"
     ]
    }
   ],
   "source": [
    "print(metrics.keys())"
   ]
  },
  {
   "cell_type": "code",
   "execution_count": 11,
   "id": "e2b88051",
   "metadata": {},
   "outputs": [
    {
     "data": {
      "text/plain": [
       "Array([1., 1.], dtype=float32)"
      ]
     },
     "execution_count": 11,
     "metadata": {},
     "output_type": "execute_result"
    }
   ],
   "source": [
    "metrics[\"D\"]"
   ]
  }
 ],
 "metadata": {
  "kernelspec": {
   "display_name": ".venv",
   "language": "python",
   "name": "python3"
  },
  "language_info": {
   "codemirror_mode": {
    "name": "ipython",
    "version": 3
   },
   "file_extension": ".py",
   "mimetype": "text/x-python",
   "name": "python",
   "nbconvert_exporter": "python",
   "pygments_lexer": "ipython3",
   "version": "3.12.8"
  }
 },
 "nbformat": 4,
 "nbformat_minor": 5
}
