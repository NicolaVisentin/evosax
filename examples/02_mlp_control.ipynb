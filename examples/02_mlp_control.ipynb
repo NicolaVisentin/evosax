{
 "cells": [
  {
   "cell_type": "markdown",
   "metadata": {},
   "source": [
    "# 02 - Evolving CartPole Controllers\n",
    "### [Last Update: March 2022][![Colab](https://colab.research.google.com/assets/colab-badge.svg)](https://colab.research.google.com/github/RobertTLange/evosax/blob/main/examples/02_mlp_control.ipynb)"
   ]
  },
  {
   "cell_type": "code",
   "execution_count": 1,
   "metadata": {},
   "outputs": [],
   "source": [
    "%matplotlib inline\n",
    "%load_ext autoreload\n",
    "%autoreload 2\n",
    "%config InlineBackend.figure_format = 'retina'\n",
    "\n",
    "!pip install -q git+https://github.com/RobertTLange/evosax.git@main\n",
    "!pip install -q gymnax"
   ]
  },
  {
   "cell_type": "markdown",
   "metadata": {},
   "source": [
    "## Open-ES with MLP Controller"
   ]
  },
  {
   "cell_type": "code",
   "execution_count": 1,
   "metadata": {},
   "outputs": [
    {
     "name": "stdout",
     "output_type": "stream",
     "text": [
      "ParameterReshaper: 4610 parameters detected for optimization.\n"
     ]
    }
   ],
   "source": [
    "import jax\n",
    "import jax.numpy as jnp\n",
    "\n",
    "from evosax import OpenES, PGPE, ParameterReshaper, FitnessShaper, NetworkMapper\n",
    "from evosax.utils import ESLog\n",
    "from evosax.problems import GymnaxFitness\n",
    "\n",
    "rng = jax.random.PRNGKey(0)\n",
    "network = NetworkMapper[\"MLP\"](\n",
    "    num_hidden_units=64,\n",
    "    num_hidden_layers=2,\n",
    "    num_output_units=2,\n",
    "    hidden_activation=\"relu\",\n",
    "    output_activation=\"categorical\",\n",
    ")\n",
    "pholder = jnp.zeros((4,))\n",
    "params = network.init(\n",
    "    rng,\n",
    "    x=pholder,\n",
    "    rng=rng,\n",
    ")\n",
    "\n",
    "param_reshaper = ParameterReshaper(params)"
   ]
  },
  {
   "cell_type": "code",
   "execution_count": 2,
   "metadata": {},
   "outputs": [],
   "source": [
    "evaluator = GymnaxFitness(\"CartPole-v1\", num_env_steps=200, num_rollouts=16)\n",
    "evaluator.set_apply_fn(network.apply)"
   ]
  },
  {
   "cell_type": "code",
   "execution_count": 17,
   "metadata": {},
   "outputs": [
    {
     "data": {
      "text/plain": [
       "EvoParams(opt_params=OptParams(lrate_init=0.1, lrate_decay=1.0, lrate_limit=0.001, momentum=None, beta_1=0.99, beta_2=0.999, beta_3=None, eps=1e-08, max_speed=None), sigma_init=0.03, sigma_decay=1.0, sigma_limit=0.01, init_min=0.0, init_max=0.0, clip_min=-3.4028235e+38, clip_max=3.4028235e+38)"
      ]
     },
     "execution_count": 17,
     "metadata": {},
     "output_type": "execute_result"
    }
   ],
   "source": [
    "strategy = OpenES(popsize=100,\n",
    "                num_dims=param_reshaper.total_params,\n",
    "                opt_name=\"adam\",\n",
    "                lrate_init=0.1)\n",
    "strategy.default_params"
   ]
  },
  {
   "cell_type": "code",
   "execution_count": 18,
   "metadata": {},
   "outputs": [
    {
     "name": "stdout",
     "output_type": "stream",
     "text": [
      "Generation:  0 Performance:  24.4375\n",
      "Generation:  20 Performance:  200.0\n",
      "Generation:  40 Performance:  200.0\n",
      "Generation:  60 Performance:  200.0\n",
      "Generation:  80 Performance:  200.0\n"
     ]
    }
   ],
   "source": [
    "num_generations = 100\n",
    "print_every_k_gens = 20\n",
    "\n",
    "es_logging = ESLog(param_reshaper.total_params,\n",
    "                   num_generations=num_generations,\n",
    "                   top_k=5,\n",
    "                   maximize=True)\n",
    "log = es_logging.initialize()\n",
    "\n",
    "fit_shaper = FitnessShaper(centered_rank=True,\n",
    "                           w_decay=0.0,\n",
    "                           maximize=True)\n",
    "\n",
    "state = strategy.initialize(rng)\n",
    "\n",
    "for gen in range(num_generations):\n",
    "    rng, rng_init, rng_ask, rng_eval = jax.random.split(rng, 4)\n",
    "    x, state = strategy.ask(rng_ask, state)\n",
    "    reshaped_params = param_reshaper.reshape(x)\n",
    "    fitness = evaluator.rollout(rng_eval, reshaped_params).mean(axis=1)\n",
    "    fit_re = fit_shaper.apply(x, fitness)\n",
    "    state = strategy.tell(x, fit_re, state)\n",
    "    log = es_logging.update(log, x, fitness)\n",
    "    \n",
    "    if gen % print_every_k_gens == 0:\n",
    "        print(\"Generation: \", gen, \"Performance: \", log[\"log_top_1\"][gen])"
   ]
  },
  {
   "cell_type": "code",
   "execution_count": 16,
   "metadata": {},
   "outputs": [
    {
     "data": {
      "text/plain": [
       "(<Figure size 432x216 with 1 Axes>,\n",
       " <AxesSubplot:title={'center':'CartPole MLP OpenAI-ES'}, xlabel='Number of Generations', ylabel='Fitness Score'>)"
      ]
     },
     "execution_count": 16,
     "metadata": {},
     "output_type": "execute_result"
    },
    {
     "data": {
      "image/png": "[encoded data removed]",
      "text/plain": [
       "<Figure size 432x216 with 1 Axes>"
      ]
     },
     "metadata": {
      "needs_background": "light"
     },
     "output_type": "display_data"
    }
   ],
   "source": [
    "es_logging.plot(log, \"CartPole MLP OpenAI-ES\")"
   ]
  },
  {
   "cell_type": "markdown",
   "metadata": {},
   "source": [
    "# PGPE with LSTM Controller"
   ]
  },
  {
   "cell_type": "code",
   "execution_count": 6,
   "metadata": {},
   "outputs": [
    {
     "name": "stdout",
     "output_type": "stream",
     "text": [
      "ParameterReshaper: 4802 parameters detected for optimization.\n"
     ]
    }
   ],
   "source": [
    "rng = jax.random.PRNGKey(0)\n",
    "network = NetworkMapper[\"LSTM\"](\n",
    "    num_hidden_units=32,\n",
    "    num_output_units=2,\n",
    "    output_activation=\"categorical\",\n",
    ")\n",
    "pholder = jnp.zeros((4,))\n",
    "carry_init = network.initialize_carry()\n",
    "params = network.init(\n",
    "    rng,\n",
    "    x=pholder,\n",
    "    carry=carry_init,\n",
    "    rng=rng,\n",
    ")\n",
    "\n",
    "param_reshaper = ParameterReshaper(params)"
   ]
  },
  {
   "cell_type": "code",
   "execution_count": 7,
   "metadata": {},
   "outputs": [],
   "source": [
    "evaluator = GymnaxFitness(\"CartPole-v1\", num_env_steps=200, num_rollouts=16)\n",
    "evaluator.set_apply_fn(network.apply, network.initialize_carry)"
   ]
  },
  {
   "cell_type": "code",
   "execution_count": 12,
   "metadata": {},
   "outputs": [
    {
     "data": {
      "text/plain": [
       "EvoParams(opt_params=OptParams(lrate_init=0.05, lrate_decay=1.0, lrate_limit=0.001, momentum=None, beta_1=0.99, beta_2=0.999, beta_3=None, eps=1e-08, max_speed=None), sigma_init=0.03, sigma_decay=1.0, sigma_limit=0.01, sigma_lrate=0.2, sigma_max_change=0.2, init_min=0.0, init_max=0.0, clip_min=-3.4028235e+38, clip_max=3.4028235e+38)"
      ]
     },
     "execution_count": 12,
     "metadata": {},
     "output_type": "execute_result"
    }
   ],
   "source": [
    "from evosax import PGPE\n",
    "\n",
    "popsize = 100\n",
    "strategy = PGPE(popsize, param_reshaper.total_params,\n",
    "                elite_ratio=0.1, opt_name=\"adam\")\n",
    "\n",
    "# Update basic parameters of PGPE strategy\n",
    "es_params = strategy.default_params\n",
    "es_params      "
   ]
  },
  {
   "cell_type": "code",
   "execution_count": 13,
   "metadata": {},
   "outputs": [
    {
     "name": "stdout",
     "output_type": "stream",
     "text": [
      "Generation:  0 Performance:  21.875\n",
      "Generation:  20 Performance:  44.625\n",
      "Generation:  40 Performance:  194.4375\n",
      "Generation:  60 Performance:  199.3125\n",
      "Generation:  80 Performance:  200.0\n"
     ]
    }
   ],
   "source": [
    "num_generations = 100\n",
    "print_every_k_gens = 20\n",
    "\n",
    "es_logging = ESLog(param_reshaper.total_params,\n",
    "                   num_generations=num_generations,\n",
    "                   top_k=5,\n",
    "                   maximize=True)\n",
    "log = es_logging.initialize()\n",
    "\n",
    "fit_shaper = FitnessShaper(w_decay=0.1,\n",
    "                           maximize=True)\n",
    "\n",
    "state = strategy.initialize(rng, es_params)\n",
    "\n",
    "for gen in range(num_generations):\n",
    "    rng, rng_init, rng_ask, rng_eval = jax.random.split(rng, 4)\n",
    "    x, state = strategy.ask(rng_ask, state, es_params)\n",
    "    reshaped_params = param_reshaper.reshape(x)\n",
    "    fitness = evaluator.rollout(rng_eval, reshaped_params).mean(axis=1)\n",
    "    fit_re = fit_shaper.apply(x, fitness)\n",
    "    state = strategy.tell(x, fit_re, state, es_params)\n",
    "    log = es_logging.update(log, x, fitness)\n",
    "    \n",
    "    if gen % print_every_k_gens == 0:\n",
    "        print(\"Generation: \", gen, \"Performance: \", log[\"log_top_1\"][gen])"
   ]
  },
  {
   "cell_type": "code",
   "execution_count": 14,
   "metadata": {},
   "outputs": [
    {
     "data": {
      "text/plain": [
       "(<Figure size 432x216 with 1 Axes>,\n",
       " <AxesSubplot:title={'center':'CartPole LSTM PGPE'}, xlabel='Number of Generations', ylabel='Fitness Score'>)"
      ]
     },
     "execution_count": 14,
     "metadata": {},
     "output_type": "execute_result"
    },
    {
     "data": {
      "image/png": "[encoded data removed]",
      "text/plain": [
       "<Figure size 432x216 with 1 Axes>"
      ]
     },
     "metadata": {
      "needs_background": "light"
     },
     "output_type": "display_data"
    }
   ],
   "source": [
    "es_logging.plot(log, \"CartPole LSTM PGPE\")"
   ]
  },
  {
   "cell_type": "code",
   "execution_count": null,
   "metadata": {},
   "outputs": [],
   "source": []
  }
 ],
 "metadata": {
  "kernelspec": {
   "display_name": "mle-toolbox",
   "language": "python",
   "name": "mle-toolbox"
  },
  "language_info": {
   "codemirror_mode": {
    "name": "ipython",
    "version": 3
   },
   "file_extension": ".py",
   "mimetype": "text/x-python",
   "name": "python",
   "nbconvert_exporter": "python",
   "pygments_lexer": "ipython3",
   "version": "3.9.7"
  }
 },
 "nbformat": 4,
 "nbformat_minor": 4
}
