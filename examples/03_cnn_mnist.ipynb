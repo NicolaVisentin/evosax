{
 "cells": [
  {
   "cell_type": "markdown",
   "metadata": {},
   "source": [
    "# 03 - Evolving a MNIST CNN with OpenES [![Colab](https://colab.research.google.com/assets/colab-badge.svg)](https://colab.research.google.com/github/RobertTLange/evosax/blob/main/examples/03_cnn_mnist.ipynb)"
   ]
  },
  {
   "cell_type": "markdown",
   "metadata": {},
   "source": [
    "## Installation"
   ]
  },
  {
   "cell_type": "markdown",
   "metadata": {},
   "source": [
    "You will need Python 3.10 or later, and a working JAX installation. For example, you can install JAX on NVIDIA GPU with:"
   ]
  },
  {
   "cell_type": "code",
   "execution_count": null,
   "metadata": {},
   "outputs": [],
   "source": [
    "%pip install -U \"jax[cuda]\""
   ]
  },
  {
   "cell_type": "markdown",
   "metadata": {},
   "source": [
    "Then, install `evosax` from PyPi:"
   ]
  },
  {
   "cell_type": "code",
   "execution_count": null,
   "metadata": {},
   "outputs": [],
   "source": [
    "%pip install -U \"evosax[examples]\""
   ]
  },
  {
   "cell_type": "code",
   "execution_count": null,
   "metadata": {},
   "outputs": [],
   "source": [
    "import jax\n",
    "import jax.numpy as jnp\n",
    "from evosax import NetworkMapper, OpenES, ParameterReshaper\n",
    "from evosax.problems import VisionProblem\n",
    "\n",
    "rng = jax.random.key(0)\n",
    "\n",
    "# The CNN architecture uses two differently sized (kernel etc.) conv blocks\n",
    "network = NetworkMapper[\"CNN\"](\n",
    "    depth_1=1,  # number of conv layers in block 1\n",
    "    depth_2=1,  # number of conv layers in block 2\n",
    "    features_1=8,\n",
    "    features_2=16,\n",
    "    kernel_1=5,\n",
    "    kernel_2=5,\n",
    "    strides_1=1,\n",
    "    strides_2=1,\n",
    "    num_linear_layers=0,\n",
    "    num_output_units=10,\n",
    ")\n",
    "solution = jnp.zeros((1, 28, 28, 1))\n",
    "solution = network.init(\n",
    "    rng,\n",
    "    x=solution,\n",
    "    rng=rng,\n",
    ")\n",
    "\n",
    "# Note: ParameterReshaper automatically detects if multiple devices are available\n",
    "# and uses pmap to reshape raw parameter vectors onto different devices\n",
    "# For testing (mean and best so far), on the other hand, we always only use a single device\n",
    "param_reshaper = ParameterReshaper(solution)\n",
    "test_param_reshaper = ParameterReshaper(solution, n_devices=1)"
   ]
  },
  {
   "cell_type": "code",
   "execution_count": null,
   "metadata": {},
   "outputs": [],
   "source": [
    "# Set up the dataloader for batch evaluations (may take a sec)\n",
    "train_problem = VisionProblem(\"MNIST\", batch_size=1024, test=False)\n",
    "test_problem = VisionProblem(\"MNIST\", batch_size=10000, test=True, n_devices=1)\n",
    "\n",
    "train_problem.set_apply_fn(network.apply)\n",
    "test_problem.set_apply_fn(network.apply)"
   ]
  },
  {
   "cell_type": "code",
   "execution_count": 3,
   "metadata": {},
   "outputs": [],
   "source": [
    "strategy = OpenES(\n",
    "    population_size=100, num_dims=param_reshaper.total_params, opt_name=\"adam\"\n",
    ")\n",
    "# Update basic parameters of PGPE strategy\n",
    "params = strategy.default_params"
   ]
  },
  {
   "cell_type": "code",
   "execution_count": 4,
   "metadata": {},
   "outputs": [],
   "source": [
    "from evosax import FitnessShaper\n",
    "\n",
    "fit_shaper = FitnessShaper(\n",
    "    centered_rank=True, z_score=False, w_decay=0.1, maximize=False\n",
    ")"
   ]
  },
  {
   "cell_type": "code",
   "execution_count": null,
   "metadata": {},
   "outputs": [],
   "source": [
    "num_generations = 2500\n",
    "print_every_k_gens = 100\n",
    "state = strategy.init(rng, params)\n",
    "\n",
    "for generation in range(num_generations):\n",
    "    rng, rng_ask, rng_eval = jax.random.split(rng, 3)\n",
    "    x, state = strategy.ask(rng_ask, state, params)\n",
    "    reshaped_params = param_reshaper.reshape(x)\n",
    "    # Evaluate will pytree w. train_acc, train_loss\n",
    "    train_loss, train_acc = train_problem.eval(rng_eval, reshaped_params)\n",
    "    fit_re = fit_shaper.apply(x, train_loss.mean(axis=1))\n",
    "    state = strategy.tell(x, fit_re, state, params)\n",
    "\n",
    "    if generation % print_every_k_gens == 0:\n",
    "        # Perform evaluation for best and mean members\n",
    "        mean_params = state.mean.reshape(1, -1)\n",
    "        reshaped_test_params = test_param_reshaper.reshape(mean_params)\n",
    "        test_loss, test_acc = test_problem.eval(rng_eval, reshaped_test_params)\n",
    "        print(\n",
    "            f\"Generation: {generation} | Train Acc: {train_acc.mean()} | Test Acc: {test_acc.mean()}\"\n",
    "        )"
   ]
  }
 ],
 "metadata": {
  "kernelspec": {
   "display_name": "mle-toolbox",
   "language": "python",
   "name": "mle-toolbox"
  },
  "language_info": {
   "codemirror_mode": {
    "name": "ipython",
    "version": 3
   },
   "file_extension": ".py",
   "mimetype": "text/x-python",
   "name": "python",
   "nbconvert_exporter": "python",
   "pygments_lexer": "ipython3",
   "version": "3.9.7"
  }
 },
 "nbformat": 4,
 "nbformat_minor": 4
}
