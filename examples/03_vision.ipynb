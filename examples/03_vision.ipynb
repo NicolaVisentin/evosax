{
 "cells": [
  {
   "cell_type": "markdown",
   "metadata": {},
   "source": [
    "# 03 - Vision - Evolving CNN [![Colab](https://colab.research.google.com/assets/colab-badge.svg)](https://colab.research.google.com/github/RobertTLange/evosax/blob/main/examples/03_vision.ipynb)"
   ]
  },
  {
   "cell_type": "markdown",
   "metadata": {},
   "source": [
    "## Installation"
   ]
  },
  {
   "cell_type": "markdown",
   "metadata": {},
   "source": [
    "You will need Python 3.10 or later, and a working JAX installation. For example, you can install JAX on NVIDIA GPU with:"
   ]
  },
  {
   "cell_type": "code",
   "execution_count": null,
   "metadata": {},
   "outputs": [],
   "source": [
    "%pip install -U \"jax[cuda]\""
   ]
  },
  {
   "cell_type": "markdown",
   "metadata": {},
   "source": [
    "Then, install `evosax` from PyPi:"
   ]
  },
  {
   "cell_type": "code",
   "execution_count": null,
   "metadata": {},
   "outputs": [],
   "source": [
    "%pip install -U \"evosax[examples]\""
   ]
  },
  {
   "cell_type": "markdown",
   "metadata": {},
   "source": [
    "## Import"
   ]
  },
  {
   "cell_type": "code",
   "execution_count": 157,
   "metadata": {},
   "outputs": [],
   "source": [
    "import jax\n",
    "import optax"
   ]
  },
  {
   "cell_type": "code",
   "execution_count": 2,
   "metadata": {},
   "outputs": [],
   "source": [
    "seed = 0\n",
    "key = jax.random.key(seed)"
   ]
  },
  {
   "cell_type": "markdown",
   "metadata": {},
   "source": [
    "## MNIST"
   ]
  },
  {
   "cell_type": "code",
   "execution_count": 10,
   "metadata": {},
   "outputs": [],
   "source": [
    "from evosax.problems import CNN, identity_output_fn\n",
    "from evosax.problems import TorchVisionProblem as Problem\n",
    "\n",
    "network = CNN(\n",
    "    num_filters=[8, 16],\n",
    "    kernel_sizes=[(5, 5), (5, 5)],\n",
    "    strides=[(1, 1), (1, 1)],\n",
    "    mlp_layer_sizes=[10],\n",
    "    output_fn=identity_output_fn,\n",
    ")\n",
    "\n",
    "problem = Problem(\n",
    "    task_name=\"MNIST\",\n",
    "    network=network,\n",
    "    batch_size=1024,\n",
    ")\n",
    "\n",
    "key, subkey = jax.random.split(key)\n",
    "problem_state = problem.init(key)\n",
    "\n",
    "key, subkey = jax.random.split(key)\n",
    "solution = problem.sample(subkey)"
   ]
  },
  {
   "cell_type": "code",
   "execution_count": 4,
   "metadata": {},
   "outputs": [
    {
     "name": "stdout",
     "output_type": "stream",
     "text": [
      "Number of pararmeters: 128874\n"
     ]
    }
   ],
   "source": [
    "print(f\"Number of pararmeters: {sum(leaf.size for leaf in jax.tree.leaves(solution))}\")"
   ]
  },
  {
   "cell_type": "code",
   "execution_count": 5,
   "metadata": {},
   "outputs": [],
   "source": [
    "from evosax.algorithms import Open_ES as ES\n",
    "\n",
    "num_generations = 512\n",
    "lr_schedule = optax.exponential_decay(\n",
    "    init_value=0.01,\n",
    "    transition_steps=num_generations,\n",
    "    decay_rate=0.1,\n",
    ")\n",
    "std_schedule = optax.exponential_decay(\n",
    "    init_value=0.05,\n",
    "    transition_steps=num_generations,\n",
    "    decay_rate=0.2,\n",
    ")\n",
    "es = ES(\n",
    "    population_size=256,\n",
    "    solution=solution,\n",
    "    optimizer=optax.adam(learning_rate=lr_schedule),\n",
    "    std_schedule=std_schedule,\n",
    ")\n",
    "\n",
    "params = es.default_params"
   ]
  },
  {
   "cell_type": "markdown",
   "metadata": {},
   "source": [
    "### Run"
   ]
  },
  {
   "cell_type": "code",
   "execution_count": 6,
   "metadata": {},
   "outputs": [],
   "source": [
    "def step(carry, key):\n",
    "    state, params, problem_state = carry\n",
    "    key_ask, key_eval, key_tell = jax.random.split(key, 3)\n",
    "\n",
    "    population, state = es.ask(key_ask, state, params)\n",
    "\n",
    "    fitness, problem_state, _ = problem.eval(key_eval, population, problem_state)\n",
    "\n",
    "    state, metrics = es.tell(\n",
    "        key_tell, population, fitness, state, params\n",
    "    )  # Minimize fitness\n",
    "\n",
    "    return (state, params, problem_state), metrics"
   ]
  },
  {
   "cell_type": "code",
   "execution_count": 9,
   "metadata": {},
   "outputs": [
    {
     "name": "stdout",
     "output_type": "stream",
     "text": [
      "Generation 032 | Mean fitness: 0.90 | Accuracy: 0.70\n",
      "Generation 064 | Mean fitness: 0.34 | Accuracy: 0.89\n",
      "Generation 096 | Mean fitness: 0.26 | Accuracy: 0.92\n",
      "Generation 128 | Mean fitness: 0.18 | Accuracy: 0.95\n",
      "Generation 160 | Mean fitness: 0.18 | Accuracy: 0.95\n",
      "Generation 192 | Mean fitness: 0.14 | Accuracy: 0.96\n",
      "Generation 224 | Mean fitness: 0.16 | Accuracy: 0.96\n",
      "Generation 256 | Mean fitness: 0.15 | Accuracy: 0.96\n",
      "Generation 288 | Mean fitness: 0.14 | Accuracy: 0.96\n",
      "Generation 320 | Mean fitness: 0.15 | Accuracy: 0.96\n",
      "Generation 352 | Mean fitness: 0.14 | Accuracy: 0.96\n",
      "Generation 384 | Mean fitness: 0.12 | Accuracy: 0.97\n",
      "Generation 416 | Mean fitness: 0.12 | Accuracy: 0.96\n",
      "Generation 448 | Mean fitness: 0.10 | Accuracy: 0.97\n",
      "Generation 480 | Mean fitness: 0.11 | Accuracy: 0.97\n",
      "Generation 512 | Mean fitness: 0.11 | Accuracy: 0.97\n"
     ]
    }
   ],
   "source": [
    "key, subkey = jax.random.split(key)\n",
    "state = es.init(subkey, solution, params)\n",
    "\n",
    "fitness_log = []\n",
    "log_period = 32\n",
    "for i in range(num_generations // log_period):\n",
    "    key, subkey = jax.random.split(key)\n",
    "    keys = jax.random.split(subkey, log_period)\n",
    "    (state, params, problem_state), metrics = jax.lax.scan(\n",
    "        step,\n",
    "        (state, params, problem_state),\n",
    "        keys,\n",
    "    )\n",
    "\n",
    "    mean = es.get_mean(state)\n",
    "\n",
    "    key, subkey = jax.random.split(key)\n",
    "    fitness, problem_state, info = problem.eval_test(\n",
    "        key, jax.tree.map(lambda x: x[None], mean), problem_state\n",
    "    )\n",
    "    print(\n",
    "        f\"Generation {(i + 1) * log_period:03d} | Mean fitness: {fitness.mean():.2f} | Accuracy: {info['accuracy'].mean():.2f}\"\n",
    "    )"
   ]
  },
  {
   "cell_type": "markdown",
   "metadata": {},
   "source": [
    "## CIFAR-10"
   ]
  },
  {
   "cell_type": "code",
   "execution_count": 151,
   "metadata": {},
   "outputs": [],
   "source": [
    "from evosax.problems import CNN, identity_output_fn\n",
    "from evosax.problems import TorchVisionProblem as Problem\n",
    "\n",
    "network = CNN(\n",
    "    num_filters=[8, 16],\n",
    "    kernel_sizes=[(5, 5), (5, 5)],\n",
    "    strides=[(2, 2), (2, 2)],\n",
    "    mlp_layer_sizes=[128, 10],\n",
    "    output_fn=identity_output_fn,\n",
    ")\n",
    "\n",
    "problem = Problem(\n",
    "    task_name=\"CIFAR10\",\n",
    "    network=network,\n",
    "    batch_size=1024,\n",
    ")\n",
    "\n",
    "key, subkey = jax.random.split(key)\n",
    "problem_state = problem.init(key)\n",
    "\n",
    "key, subkey = jax.random.split(key)\n",
    "solution = problem.sample(subkey)"
   ]
  },
  {
   "cell_type": "code",
   "execution_count": 152,
   "metadata": {},
   "outputs": [
    {
     "name": "stdout",
     "output_type": "stream",
     "text": [
      "Number of pararmeters: 136314\n"
     ]
    }
   ],
   "source": [
    "print(f\"Number of pararmeters: {sum(leaf.size for leaf in jax.tree.leaves(solution))}\")"
   ]
  },
  {
   "cell_type": "code",
   "execution_count": 153,
   "metadata": {},
   "outputs": [],
   "source": [
    "from evosax.algorithms import Open_ES as ES\n",
    "\n",
    "num_generations = 512\n",
    "lr_schedule = optax.exponential_decay(\n",
    "    init_value=0.01,\n",
    "    transition_steps=num_generations,\n",
    "    decay_rate=0.1,\n",
    ")\n",
    "std_schedule = optax.exponential_decay(\n",
    "    init_value=0.05,\n",
    "    transition_steps=num_generations,\n",
    "    decay_rate=0.1,\n",
    ")\n",
    "es = ES(\n",
    "    population_size=512,\n",
    "    solution=solution,\n",
    "    optimizer=optax.adam(learning_rate=lr_schedule),\n",
    "    std_schedule=std_schedule,\n",
    ")\n",
    "\n",
    "params = es.default_params"
   ]
  },
  {
   "cell_type": "markdown",
   "metadata": {},
   "source": [
    "### Run"
   ]
  },
  {
   "cell_type": "code",
   "execution_count": 154,
   "metadata": {},
   "outputs": [],
   "source": [
    "def step(carry, key):\n",
    "    state, params, problem_state = carry\n",
    "    key_ask, key_eval, key_tell = jax.random.split(key, 3)\n",
    "\n",
    "    population, state = es.ask(key_ask, state, params)\n",
    "\n",
    "    fitness, problem_state, _ = problem.eval(key_eval, population, problem_state)\n",
    "\n",
    "    state, metrics = es.tell(\n",
    "        key_tell, population, fitness, state, params\n",
    "    )  # Minimize fitness\n",
    "\n",
    "    return (state, params, problem_state), metrics"
   ]
  },
  {
   "cell_type": "code",
   "execution_count": 155,
   "metadata": {},
   "outputs": [],
   "source": [
    "key, subkey = jax.random.split(key)\n",
    "state = es.init(subkey, solution, params)"
   ]
  },
  {
   "cell_type": "code",
   "execution_count": 156,
   "metadata": {},
   "outputs": [
    {
     "name": "stdout",
     "output_type": "stream",
     "text": [
      "Generation 032 | Mean fitness: 2.07 | Accuracy: 0.25\n",
      "Generation 064 | Mean fitness: 1.88 | Accuracy: 0.32\n",
      "Generation 096 | Mean fitness: 1.80 | Accuracy: 0.33\n",
      "Generation 128 | Mean fitness: 1.72 | Accuracy: 0.37\n",
      "Generation 160 | Mean fitness: 1.70 | Accuracy: 0.41\n",
      "Generation 192 | Mean fitness: 1.67 | Accuracy: 0.39\n",
      "Generation 224 | Mean fitness: 1.66 | Accuracy: 0.39\n",
      "Generation 256 | Mean fitness: 1.63 | Accuracy: 0.41\n",
      "Generation 288 | Mean fitness: 1.67 | Accuracy: 0.39\n",
      "Generation 320 | Mean fitness: 1.60 | Accuracy: 0.41\n",
      "Generation 352 | Mean fitness: 1.60 | Accuracy: 0.42\n",
      "Generation 384 | Mean fitness: 1.57 | Accuracy: 0.44\n",
      "Generation 416 | Mean fitness: 1.60 | Accuracy: 0.40\n",
      "Generation 448 | Mean fitness: 1.55 | Accuracy: 0.44\n",
      "Generation 480 | Mean fitness: 1.58 | Accuracy: 0.44\n",
      "Generation 512 | Mean fitness: 1.56 | Accuracy: 0.41\n"
     ]
    }
   ],
   "source": [
    "fitness_log = []\n",
    "log_period = 32\n",
    "for i in range(num_generations // log_period):\n",
    "    key, subkey = jax.random.split(key)\n",
    "    keys = jax.random.split(subkey, log_period)\n",
    "    (state, params, problem_state), metrics = jax.lax.scan(\n",
    "        step,\n",
    "        (state, params, problem_state),\n",
    "        keys,\n",
    "    )\n",
    "\n",
    "    mean = es.get_mean(state)\n",
    "\n",
    "    key, subkey = jax.random.split(key)\n",
    "    fitness, problem_state, info = problem.eval_test(\n",
    "        key, jax.tree.map(lambda x: x[None], mean), problem_state\n",
    "    )\n",
    "    print(\n",
    "        f\"Generation {(i + 1) * log_period:03d} | Mean fitness: {fitness.mean():.2f} | Accuracy: {info['accuracy'].mean():.2f}\"\n",
    "    )"
   ]
  }
 ],
 "metadata": {
  "kernelspec": {
   "display_name": ".venv",
   "language": "python",
   "name": "python3"
  },
  "language_info": {
   "codemirror_mode": {
    "name": "ipython",
    "version": 3
   },
   "file_extension": ".py",
   "mimetype": "text/x-python",
   "name": "python",
   "nbconvert_exporter": "python",
   "pygments_lexer": "ipython3",
   "version": "3.12.8"
  }
 },
 "nbformat": 4,
 "nbformat_minor": 4
}
