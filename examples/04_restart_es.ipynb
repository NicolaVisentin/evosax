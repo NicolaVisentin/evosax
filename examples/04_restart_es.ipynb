{
 "cells": [
  {
   "cell_type": "markdown",
   "metadata": {},
   "source": [
    "# 06 - Restart Evolution Strategy [![Colab](https://colab.research.google.com/assets/colab-badge.svg)](https://colab.research.google.com/github/RobertTLange/evosax/blob/main/examples/06_restart_es.ipynb)"
   ]
  },
  {
   "cell_type": "markdown",
   "metadata": {},
   "source": [
    "## Installation"
   ]
  },
  {
   "cell_type": "markdown",
   "metadata": {},
   "source": [
    "You will need Python 3.10 or later, and a working JAX installation. For example, you can install JAX on NVIDIA GPU with:"
   ]
  },
  {
   "cell_type": "code",
   "execution_count": null,
   "metadata": {},
   "outputs": [],
   "source": [
    "%pip install -U \"jax[cuda]\""
   ]
  },
  {
   "cell_type": "markdown",
   "metadata": {},
   "source": [
    "Then, install `evosax` from PyPi:"
   ]
  },
  {
   "cell_type": "code",
   "execution_count": null,
   "metadata": {},
   "outputs": [],
   "source": [
    "%pip install -U \"evosax[examples]\""
   ]
  },
  {
   "cell_type": "markdown",
   "metadata": {},
   "source": [
    "## Import"
   ]
  },
  {
   "cell_type": "code",
   "execution_count": 1,
   "metadata": {},
   "outputs": [],
   "source": [
    "import jax\n",
    "import jax.numpy as jnp\n",
    "import matplotlib.pyplot as plt\n",
    "import optax"
   ]
  },
  {
   "cell_type": "code",
   "execution_count": 2,
   "metadata": {},
   "outputs": [],
   "source": [
    "seed = 0\n",
    "key = jax.random.key(seed)"
   ]
  },
  {
   "cell_type": "markdown",
   "metadata": {},
   "source": [
    "## IPOP-OpenAI-ES"
   ]
  },
  {
   "cell_type": "markdown",
   "metadata": {},
   "source": [
    "### CartPole environment"
   ]
  },
  {
   "cell_type": "code",
   "execution_count": 43,
   "metadata": {},
   "outputs": [],
   "source": [
    "from evosax.problems import GymnaxProblem as Problem\n",
    "from evosax.problems.networks import MLP, categorical_output_fn\n",
    "\n",
    "policy = MLP(\n",
    "    layer_sizes=(64, 64, 2),\n",
    "    output_fn=categorical_output_fn,\n",
    ")\n",
    "\n",
    "problem = Problem(\n",
    "    env_name=\"CartPole-v1\",\n",
    "    policy=policy,\n",
    "    episode_length=200,\n",
    "    num_rollouts=16,\n",
    "    use_normalize_obs=True,\n",
    ")\n",
    "\n",
    "key, subkey = jax.random.split(key)\n",
    "problem_state = problem.init(key)\n",
    "\n",
    "key, subkey = jax.random.split(key)\n",
    "solution = problem.sample(subkey)"
   ]
  },
  {
   "cell_type": "code",
   "execution_count": 44,
   "metadata": {},
   "outputs": [
    {
     "name": "stdout",
     "output_type": "stream",
     "text": [
      "Number of pararmeters: 4610\n"
     ]
    }
   ],
   "source": [
    "print(f\"Number of pararmeters: {sum(leaf.size for leaf in jax.tree.leaves(solution))}\")"
   ]
  },
  {
   "cell_type": "markdown",
   "metadata": {},
   "source": [
    "### OpenAI-ES"
   ]
  },
  {
   "cell_type": "code",
   "execution_count": 48,
   "metadata": {},
   "outputs": [],
   "source": [
    "from evosax.algorithms import Open_ES as ES\n",
    "\n",
    "es = ES(\n",
    "    population_size=16,\n",
    "    solution=solution,\n",
    "    optimizer=optax.adam(learning_rate=0.01),\n",
    "    std_schedule=optax.constant_schedule(0.1),\n",
    ")\n",
    "\n",
    "params = es.default_params"
   ]
  },
  {
   "cell_type": "markdown",
   "metadata": {},
   "source": [
    "### Restart OpenAI-ES on CartPole when fitness converges and double Population Size Each Time!"
   ]
  },
  {
   "cell_type": "code",
   "execution_count": 52,
   "metadata": {},
   "outputs": [],
   "source": [
    "def fitness_std_cond(population, fitness, state, params):\n",
    "    return jnp.std(fitness) < 0.001"
   ]
  },
  {
   "cell_type": "markdown",
   "metadata": {},
   "source": [
    "### Run"
   ]
  },
  {
   "cell_type": "code",
   "execution_count": null,
   "metadata": {},
   "outputs": [],
   "source": [
    "num_generations = 64\n",
    "\n",
    "key, subkey = jax.random.split(key)\n",
    "state = es.init(subkey, solution, params)\n",
    "\n",
    "metrics_log = []\n",
    "restart_generations = []\n",
    "for i in range(num_generations):\n",
    "    key, subkey = jax.random.split(key)\n",
    "    key_ask, key_eval, key_tell = jax.random.split(subkey, 3)\n",
    "\n",
    "    population, state = es.ask(key_ask, state, params)\n",
    "    fitness, problem_state, info = problem.eval(key_eval, population, problem_state)\n",
    "    state, metrics = es.tell(key_tell, population, -fitness, state, params)\n",
    "\n",
    "    if fitness_std_cond(population, fitness, state, params):\n",
    "        mean = es.get_mean(state)\n",
    "\n",
    "        key, subkey = jax.random.split(key)\n",
    "        state = es.init(subkey, mean, params)\n",
    "\n",
    "        restart_generations.append(i)\n",
    "\n",
    "    # Log metrics\n",
    "    metrics_log.append(metrics)"
   ]
  },
  {
   "cell_type": "code",
   "execution_count": null,
   "metadata": {},
   "outputs": [
    {
     "name": "stdout",
     "output_type": "stream",
     "text": [
      "Number of pararmeters: 4610\n"
     ]
    }
   ],
   "source": [
    "print(f\"Number of pararmeters: {sum(leaf.size for leaf in jax.tree.leaves(solution))}\")"
   ]
  },
  {
   "cell_type": "code",
   "execution_count": 59,
   "metadata": {},
   "outputs": [
    {
     "data": {
      "image/png": "[encoded data removed]",
      "text/plain": [
       "<Figure size 600x300 with 1 Axes>"
      ]
     },
     "metadata": {},
     "output_type": "display_data"
    }
   ],
   "source": [
    "# Extract best fitness values from metrics_log\n",
    "generations = list(range(len(metrics_log)))\n",
    "best_fitness = [-metrics[\"best_fitness\"] for metrics in metrics_log]\n",
    "\n",
    "# Create the plot\n",
    "plt.figure(figsize=(6, 3))\n",
    "plt.plot(generations, best_fitness)\n",
    "\n",
    "# Add vertical lines for restart generations\n",
    "for gen in restart_generations:\n",
    "    plt.axvline(x=gen, color=\"r\", linestyle=\"--\", alpha=0.7)\n",
    "\n",
    "plt.xlabel(\"Generations\")\n",
    "plt.ylabel(\"Best Fitness\")\n",
    "plt.title(\"Best Fitness Across Generations\")\n",
    "plt.grid(True)\n",
    "plt.tight_layout()\n",
    "plt.show()"
   ]
  },
  {
   "cell_type": "markdown",
   "metadata": {},
   "source": [
    "## BIPOP-CMA-ES"
   ]
  },
  {
   "cell_type": "markdown",
   "metadata": {},
   "source": [
    "### CMA-ES"
   ]
  },
  {
   "cell_type": "code",
   "execution_count": 60,
   "metadata": {},
   "outputs": [],
   "source": [
    "from evosax.algorithms import CMA_ES as ES\n",
    "\n",
    "es = ES(\n",
    "    population_size=16,\n",
    "    solution=solution,\n",
    ")\n",
    "\n",
    "params = es.default_params"
   ]
  },
  {
   "cell_type": "markdown",
   "metadata": {},
   "source": [
    "### Run"
   ]
  },
  {
   "cell_type": "code",
   "execution_count": null,
   "metadata": {},
   "outputs": [],
   "source": [
    "from evosax.restarts.restart_conds import cma_cond, spread_cond\n",
    "\n",
    "num_generations = 512\n",
    "\n",
    "key, subkey = jax.random.split(key)\n",
    "state = es.init(subkey, solution, params)\n",
    "\n",
    "metrics_log = []\n",
    "restart_generations = []\n",
    "for i in range(num_generations):\n",
    "    key, subkey = jax.random.split(key)\n",
    "    key_ask, key_eval, key_tell = jax.random.split(subkey, 3)\n",
    "\n",
    "    population, state = es.ask(key_ask, state, params)\n",
    "    fitness, problem_state, info = problem.eval(key_eval, population, problem_state)\n",
    "    state, metrics = es.tell(key_tell, population, -fitness, state, params)\n",
    "\n",
    "    if spread_cond(population, fitness, state, params) | cma_cond(\n",
    "        population, fitness, state, params\n",
    "    ):\n",
    "        mean = es.get_mean(state)\n",
    "\n",
    "        key, subkey = jax.random.split(key)\n",
    "        state = es.init(subkey, mean, params)\n",
    "\n",
    "        restart_generations.append(i)\n",
    "\n",
    "    # Log metrics\n",
    "    metrics_log.append(metrics)"
   ]
  }
 ],
 "metadata": {
  "kernelspec": {
   "display_name": ".venv",
   "language": "python",
   "name": "python3"
  },
  "language_info": {
   "codemirror_mode": {
    "name": "ipython",
    "version": 3
   },
   "file_extension": ".py",
   "mimetype": "text/x-python",
   "name": "python",
   "nbconvert_exporter": "python",
   "pygments_lexer": "ipython3",
   "version": "3.12.8"
  }
 },
 "nbformat": 4,
 "nbformat_minor": 4
}
