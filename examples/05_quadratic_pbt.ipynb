{
 "cells": [
  {
   "cell_type": "markdown",
   "metadata": {},
   "source": [
    "# 05 - PBT on Quadratic Toy Problem\n",
    "### [Last Update: March 2022][![Colab](https://colab.research.google.com/assets/colab-badge.svg)](https://colab.research.google.com/github/RobertTLange/evosax/blob/main/examples/05_quadratic_pbt.ipynb)"
   ]
  },
  {
   "cell_type": "code",
   "execution_count": 1,
   "metadata": {},
   "outputs": [],
   "source": [
    "%matplotlib inline\n",
    "%load_ext autoreload\n",
    "%autoreload 2\n",
    "%config InlineBackend.figure_format = 'retina'\n",
    "\n",
    "!pip install -q git+https://github.com/RobertTLange/evosax.git@main"
   ]
  },
  {
   "cell_type": "markdown",
   "metadata": {},
   "source": [
    "## Problem as in [Jaderberg et al. (2017)](https://arxiv.org/abs/1711.09846) - Toy Quadratic Problem"
   ]
  },
  {
   "cell_type": "code",
   "execution_count": 1,
   "metadata": {},
   "outputs": [],
   "source": [
    "from functools import partial\n",
    "\n",
    "import jax\n",
    "import jax.numpy as jnp\n",
    "\n",
    "\n",
    "@partial(jax.vmap, in_axes=(0, 0, None))\n",
    "def step(theta, h, lrate):\n",
    "    \"\"\"Perform GradAscent step on quadratic surrogate objective (maximize!).\"\"\"\n",
    "    surrogate_grad = -2.0 * h * theta\n",
    "    return theta + lrate * surrogate_grad\n",
    "\n",
    "\n",
    "@partial(jax.vmap, in_axes=(0,))\n",
    "def evaluate(theta):\n",
    "    \"\"\"Ground truth objective (e.g. val loss) as in Jaderberg et al. 2016.\"\"\"\n",
    "    return 1.2 - jnp.sum(theta**2)\n",
    "\n",
    "\n",
    "@partial(jax.vmap, in_axes=(0, 0))\n",
    "def surrogate_objective(theta, h):\n",
    "    \"\"\"Surrogate objective (with hyperparams h) as in Jaderberg et al. 2016.\"\"\"\n",
    "    return 1.2 - jnp.sum(h * theta**2)"
   ]
  },
  {
   "cell_type": "code",
   "execution_count": 2,
   "metadata": {},
   "outputs": [],
   "source": [
    "from evosax.strategies import PBT\n",
    "\n",
    "rng = jax.random.key(1)\n",
    "strategy = PBT(population_size=2, num_dims=2)\n",
    "es_params = strategy.default_params.replace(noise_scale=0.5)\n",
    "state = strategy.initialize(rng, es_params)\n",
    "\n",
    "# set the state manually for init\n",
    "theta = jnp.array([[0.9, 0.9], [0.9, 0.9]])\n",
    "h = jnp.array([[0.0, 1.0], [1.0, 0.0]])"
   ]
  },
  {
   "cell_type": "code",
   "execution_count": 3,
   "metadata": {},
   "outputs": [],
   "source": [
    "# Run 20 steps and evaluate final performance\n",
    "fitness_log = []\n",
    "theta_log = []\n",
    "for gen in range(20):\n",
    "    rng, rng_gen = jax.random.split(rng, 2)\n",
    "    for i in range(10):\n",
    "        theta = step(theta, h, 0.01)\n",
    "        theta_log.append(theta)\n",
    "    fitness = evaluate(theta)\n",
    "    state = strategy.tell(h, fitness, state, es_params)\n",
    "    h, state = strategy.ask(rng_gen, state, es_params)\n",
    "    theta = theta[state.copy_id]\n",
    "    fitness_log.append(fitness)\n",
    "\n",
    "theta_log = jnp.array(theta_log)"
   ]
  },
  {
   "cell_type": "code",
   "execution_count": 4,
   "metadata": {},
   "outputs": [
    {
     "data": {
      "text/plain": [
       "<matplotlib.collections.PathCollection at 0x7fb1c8a8ff40>"
      ]
     },
     "execution_count": 4,
     "metadata": {},
     "output_type": "execute_result"
    },
    {
     "data": {
      "image/png": "[encoded data removed]",
      "text/plain": [
       "<Figure size 720x360 with 2 Axes>"
      ]
     },
     "metadata": {
      "needs_background": "light"
     },
     "output_type": "display_data"
    }
   ],
   "source": [
    "import matplotlib.pyplot as plt\n",
    "\n",
    "fig, axs = plt.subplots(1, 2, figsize=(10, 5))\n",
    "axs[0].plot(fitness_log)\n",
    "axs[1].scatter(theta_log[:, 0], theta_log[:, 1], s=8)"
   ]
  },
  {
   "cell_type": "code",
   "execution_count": null,
   "metadata": {},
   "outputs": [],
   "source": []
  }
 ],
 "metadata": {
  "kernelspec": {
   "display_name": "mle-toolbox",
   "language": "python",
   "name": "mle-toolbox"
  },
  "language_info": {
   "codemirror_mode": {
    "name": "ipython",
    "version": 3
   },
   "file_extension": ".py",
   "mimetype": "text/x-python",
   "name": "python",
   "nbconvert_exporter": "python",
   "pygments_lexer": "ipython3",
   "version": "3.9.7"
  }
 },
 "nbformat": 4,
 "nbformat_minor": 4
}
