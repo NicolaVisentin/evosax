{
 "cells": [
  {
   "attachments": {},
   "cell_type": "markdown",
   "metadata": {},
   "source": [
    "# 04 - Persistent ES on Learning Rate Tuning Problem [![Colab](https://colab.research.google.com/assets/colab-badge.svg)](https://colab.research.google.com/github/RobertTLange/evosax/blob/main/examples/04_mlp_pes.ipynb)"
   ]
  },
  {
   "cell_type": "markdown",
   "metadata": {},
   "source": [
    "## Installation"
   ]
  },
  {
   "cell_type": "markdown",
   "metadata": {},
   "source": [
    "You will need Python 3.10 or later, and a working JAX installation. For example, you can install JAX on NVIDIA GPU with:"
   ]
  },
  {
   "cell_type": "code",
   "execution_count": null,
   "metadata": {},
   "outputs": [],
   "source": [
    "%pip install -U \"jax[cuda]\""
   ]
  },
  {
   "cell_type": "markdown",
   "metadata": {},
   "source": [
    "Then, install `evosax` from PyPi:"
   ]
  },
  {
   "cell_type": "code",
   "execution_count": null,
   "metadata": {},
   "outputs": [],
   "source": [
    "%pip install -U \"evosax[examples]\""
   ]
  },
  {
   "cell_type": "markdown",
   "metadata": {},
   "source": [
    "## Import"
   ]
  },
  {
   "cell_type": "code",
   "execution_count": 1,
   "metadata": {},
   "outputs": [],
   "source": [
    "from functools import partial\n",
    "\n",
    "import jax\n",
    "import jax.numpy as jnp\n",
    "import optax\n",
    "from evosax.algorithms import NoiseReuseES, PersistentES"
   ]
  },
  {
   "cell_type": "code",
   "execution_count": 2,
   "metadata": {},
   "outputs": [],
   "source": [
    "seed = 0\n",
    "key = jax.random.key(seed)"
   ]
  },
  {
   "attachments": {},
   "cell_type": "markdown",
   "metadata": {},
   "source": [
    "## Problem as in [Vicol et al. (2021)](http://proceedings.mlr.press/v139/vicol21a/vicol21a-supp.pdf) - Toy 2D Regression"
   ]
  },
  {
   "cell_type": "code",
   "execution_count": 3,
   "metadata": {},
   "outputs": [],
   "source": [
    "def loss(x):\n",
    "    \"\"\"Inner loss.\"\"\"\n",
    "    return (\n",
    "        jnp.sqrt(x[0] ** 2 + 5)\n",
    "        - jnp.sqrt(5)\n",
    "        + jnp.sin(x[1]) ** 2 * jnp.exp(-5 * x[0] ** 2)\n",
    "        + 0.25 * jnp.abs(x[1] - 100)\n",
    "    )\n",
    "\n",
    "\n",
    "def update(state, i):\n",
    "    \"\"\"Perform a single inner problem update, e.g., a single unroll step.\"\"\"\n",
    "    (L, x, theta, t_curr, T, K) = state\n",
    "    lr = jnp.exp(theta[0]) * (T - t_curr) / T + jnp.exp(theta[1]) * t_curr / T\n",
    "    x = x - lr * jax.grad(loss)(x)\n",
    "    L += loss(x) * (t_curr < T)\n",
    "    t_curr += 1\n",
    "    return (L, x, theta, t_curr, T, K), x\n",
    "\n",
    "\n",
    "@partial(jax.jit, static_argnames=(\"T\", \"K\"))\n",
    "def unroll(x_init, theta, t0, T, K):\n",
    "    \"\"\"Unroll the inner problem for K steps.\"\"\"\n",
    "    L = 0.0\n",
    "    initial_state = (L, x_init, theta, t0, T, K)\n",
    "    state, outputs = jax.lax.scan(update, initial_state, None, length=K)\n",
    "    (L, x_curr, theta, t_curr, T, K) = state\n",
    "    return L, x_curr"
   ]
  },
  {
   "attachments": {},
   "cell_type": "markdown",
   "metadata": {},
   "source": [
    "## Initialize Persistent Evolution Strategy"
   ]
  },
  {
   "cell_type": "code",
   "execution_count": 4,
   "metadata": {},
   "outputs": [
    {
     "data": {
      "text/plain": [
       "Params(T=100, K=10)"
      ]
     },
     "execution_count": 4,
     "metadata": {},
     "output_type": "execute_result"
    }
   ],
   "source": [
    "population_size = 128\n",
    "\n",
    "strategy = PersistentES(\n",
    "    population_size=population_size,\n",
    "    solution=jnp.zeros(2),\n",
    "    std_schedule=optax.constant_schedule(0.2),\n",
    ")\n",
    "params = strategy.default_params.replace(T=100, K=10)\n",
    "\n",
    "key, subkey = jax.random.split(key)\n",
    "state = strategy.init(subkey, jnp.zeros(2), params)\n",
    "\n",
    "# Initialize inner parameters\n",
    "xs = jnp.ones((population_size, 2)) * jnp.array([1.0, 1.0])\n",
    "\n",
    "params"
   ]
  },
  {
   "attachments": {},
   "cell_type": "markdown",
   "metadata": {},
   "source": [
    "## Run Persistent ES"
   ]
  },
  {
   "cell_type": "code",
   "execution_count": 5,
   "metadata": {},
   "outputs": [
    {
     "name": "stdout",
     "output_type": "stream",
     "text": [
      "Generation    0 | Mean fitness: 2423.47\n",
      "Generation  500 | Mean fitness: 2321.65\n",
      "Generation 1000 | Mean fitness: 1545.29\n",
      "Generation 1500 | Mean fitness: 1238.88\n",
      "Generation 2000 | Mean fitness: 730.35\n",
      "Generation 2500 | Mean fitness: 665.97\n",
      "Generation 3000 | Mean fitness: 618.68\n",
      "Generation 3500 | Mean fitness: 611.86\n",
      "Generation 4000 | Mean fitness: 604.82\n",
      "Generation 4500 | Mean fitness: 602.42\n"
     ]
    }
   ],
   "source": [
    "for i in range(5000):\n",
    "    key, key_ask, key_tell = jax.random.split(key, 3)\n",
    "\n",
    "    if state.inner_step_counter == 0:\n",
    "        # Reset the inner problem: iteration, parameters\n",
    "        xs = jnp.ones((population_size, 2)) * jnp.array([1.0, 1.0])\n",
    "\n",
    "    population, state = strategy.ask(key_ask, state, params)\n",
    "\n",
    "    # Unroll inner problem for K steps using antithetic perturbations\n",
    "    fitness, xs = jax.vmap(unroll, in_axes=(0, 0, None, None, None))(\n",
    "        xs, population, state.inner_step_counter, params.T, params.K\n",
    "    )\n",
    "\n",
    "    state, metrics = strategy.tell(key_tell, population, fitness, state, params)\n",
    "\n",
    "    # Evaluation!\n",
    "    if i % 500 == 0:\n",
    "        L, _ = unroll(jnp.array([1.0, 1.0]), state.mean, 0, params.T, params.T)\n",
    "        print(f\"Generation {i:4d} | Mean fitness: {L:.2f}\")"
   ]
  },
  {
   "cell_type": "markdown",
   "metadata": {},
   "source": [
    "## Initialize Noise Reuse Evolution Strategy"
   ]
  },
  {
   "cell_type": "code",
   "execution_count": 6,
   "metadata": {},
   "outputs": [
    {
     "data": {
      "text/plain": [
       "Params(T=100, K=10)"
      ]
     },
     "execution_count": 6,
     "metadata": {},
     "output_type": "execute_result"
    }
   ],
   "source": [
    "population_size = 128\n",
    "\n",
    "strategy = NoiseReuseES(\n",
    "    population_size=population_size,\n",
    "    solution=jnp.zeros(2),\n",
    "    std_schedule=optax.constant_schedule(0.2),\n",
    ")\n",
    "params = strategy.default_params.replace(T=100, K=10)\n",
    "\n",
    "key, subkey = jax.random.split(key)\n",
    "state = strategy.init(subkey, jnp.zeros(2), params)\n",
    "\n",
    "# Initialize inner parameters\n",
    "xs = jnp.ones((population_size, 2)) * jnp.array([1.0, 1.0])\n",
    "\n",
    "params"
   ]
  },
  {
   "cell_type": "code",
   "execution_count": 7,
   "metadata": {},
   "outputs": [
    {
     "name": "stdout",
     "output_type": "stream",
     "text": [
      "Generation    0 | Mean fitness: 2423.47\n",
      "Generation  500 | Mean fitness: 2095.82\n",
      "Generation 1000 | Mean fitness: 1656.34\n",
      "Generation 1500 | Mean fitness: 997.18\n",
      "Generation 2000 | Mean fitness: 743.01\n",
      "Generation 2500 | Mean fitness: 656.02\n",
      "Generation 3000 | Mean fitness: 628.86\n",
      "Generation 3500 | Mean fitness: 610.77\n",
      "Generation 4000 | Mean fitness: 600.68\n",
      "Generation 4500 | Mean fitness: 597.65\n"
     ]
    }
   ],
   "source": [
    "for i in range(5000):\n",
    "    key, key_ask, key_tell = jax.random.split(key, 3)\n",
    "\n",
    "    if state.inner_step_counter == 0:\n",
    "        # Reset the inner problem: iteration, parameters\n",
    "        xs = jnp.ones((population_size, 2)) * jnp.array([1.0, 1.0])\n",
    "\n",
    "    population, state = strategy.ask(key_ask, state, params)\n",
    "\n",
    "    # Unroll inner problem for K steps using antithetic perturbations\n",
    "    fitness, xs = jax.vmap(unroll, in_axes=(0, 0, None, None, None))(\n",
    "        xs, population, state.inner_step_counter, params.T, params.K\n",
    "    )\n",
    "\n",
    "    state, metrics = strategy.tell(key_tell, population, fitness, state, params)\n",
    "\n",
    "    # Evaluation!\n",
    "    if i % 500 == 0:\n",
    "        L, _ = unroll(jnp.array([1.0, 1.0]), state.mean, 0, params.T, params.T)\n",
    "        print(f\"Generation {i:4d} | Mean fitness: {L:.2f}\")"
   ]
  }
 ],
 "metadata": {
  "kernelspec": {
   "display_name": ".venv",
   "language": "python",
   "name": "python3"
  },
  "language_info": {
   "codemirror_mode": {
    "name": "ipython",
    "version": 3
   },
   "file_extension": ".py",
   "mimetype": "text/x-python",
   "name": "python",
   "nbconvert_exporter": "python",
   "pygments_lexer": "ipython3",
   "version": "3.12.8"
  }
 },
 "nbformat": 4,
 "nbformat_minor": 4
}
