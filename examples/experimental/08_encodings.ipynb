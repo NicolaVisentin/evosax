{
 "cells": [
  {
   "cell_type": "markdown",
   "metadata": {},
   "source": [
    "# 08 - Indirect Encodings\n",
    "### [Last Update: June 2022][![Colab](https://colab.research.google.com/assets/colab-badge.svg)](https://colab.research.google.com/github/RobertTLange/evosax/blob/main/examples/08_encodings.ipynb)"
   ]
  },
  {
   "cell_type": "code",
   "execution_count": 1,
   "metadata": {},
   "outputs": [
    {
     "name": "stdout",
     "output_type": "stream",
     "text": [
      "^C\n",
      "\u001b[31mERROR: Operation cancelled by user\u001b[0m\n"
     ]
    }
   ],
   "source": [
    "%matplotlib inline\n",
    "%load_ext autoreload\n",
    "%autoreload 2\n",
    "%config InlineBackend.figure_format = 'retina'\n",
    "\n",
    "!pip install -q git+https://github.com/RobertTLange/evosax.git@main\n",
    "!pip install -q gymnax"
   ]
  },
  {
   "cell_type": "markdown",
   "metadata": {},
   "source": [
    "## Experimental (!!!) - Random Encodings"
   ]
  },
  {
   "cell_type": "code",
   "execution_count": 1,
   "metadata": {},
   "outputs": [
    {
     "name": "stdout",
     "output_type": "stream",
     "text": [
      "ParameterReshaper: 4610 parameters detected for optimization.\n"
     ]
    },
    {
     "data": {
      "text/plain": [
       "4610"
      ]
     },
     "execution_count": 1,
     "metadata": {},
     "output_type": "execute_result"
    }
   ],
   "source": [
    "import jax\n",
    "import jax.numpy as jnp\n",
    "from evosax import NetworkMapper\n",
    "from evosax.problems import GymnaxFitness\n",
    "from evosax.utils import ParameterReshaper\n",
    "\n",
    "rng = jax.random.PRNGKey(0)\n",
    "# Run Strategy on CartPole MLP\n",
    "evaluator = GymnaxFitness(\"CartPole-v1\", num_env_steps=200, num_rollouts=16)\n",
    "\n",
    "network = NetworkMapper[\"MLP\"](\n",
    "    num_hidden_units=64,\n",
    "    num_hidden_layers=2,\n",
    "    num_output_units=2,\n",
    "    hidden_activation=\"relu\",\n",
    "    output_activation=\"categorical\",\n",
    ")\n",
    "pholder = jnp.zeros((1, evaluator.input_shape[0]))\n",
    "params = network.init(\n",
    "    rng,\n",
    "    x=pholder,\n",
    "    rng=rng,\n",
    ")\n",
    "\n",
    "reshaper = ParameterReshaper(params)\n",
    "\n",
    "# Raw number of parameters to encode by hypernetwork\n",
    "reshaper.total_params"
   ]
  },
  {
   "cell_type": "code",
   "execution_count": 2,
   "metadata": {},
   "outputs": [
    {
     "name": "stdout",
     "output_type": "stream",
     "text": [
      "RandomDecoder: Encoding parameters - 6\n"
     ]
    }
   ],
   "source": [
    "from evosax.utils import FitnessShaper\n",
    "from evosax.experimental.decodings import RandomDecoder\n",
    "\n",
    "# Only optimize 10 parameters!\n",
    "num_encoding_dims = 6\n",
    "reshaper = RandomDecoder(num_encoding_dims, params)\n",
    "evaluator.set_apply_fn(network.apply)\n",
    "\n",
    "fit_shaper = FitnessShaper(maximize=True)\n"
   ]
  },
  {
   "cell_type": "code",
   "execution_count": 3,
   "metadata": {},
   "outputs": [
    {
     "name": "stderr",
     "output_type": "stream",
     "text": [
      "/Users/rob/anaconda3/envs/mle-toolbox/lib/python3.9/site-packages/flax/core/scope.py:740: FutureWarning: jax.tree_leaves is deprecated, and will be removed in a future release. Use jax.tree_util.tree_leaves instead.\n",
      "  abs_value_flat = jax.tree_leaves(abs_value)\n",
      "/Users/rob/anaconda3/envs/mle-toolbox/lib/python3.9/site-packages/flax/core/scope.py:741: FutureWarning: jax.tree_leaves is deprecated, and will be removed in a future release. Use jax.tree_util.tree_leaves instead.\n",
      "  value_flat = jax.tree_leaves(value)\n"
     ]
    },
    {
     "name": "stdout",
     "output_type": "stream",
     "text": [
      "20 137.16063 200.0 54.08962 -200.0\n",
      "40 143.86063 200.0 53.067028 -200.0\n",
      "60 149.36375 200.0 55.794975 -200.0\n",
      "80 152.18437 200.0 52.207775 -200.0\n",
      "100 153.35687 200.0 50.88368 -200.0\n"
     ]
    }
   ],
   "source": [
    "from evosax import DE\n",
    "\n",
    "strategy = DE(\n",
    "    num_dims=reshaper.total_params,\n",
    "    popsize=100,\n",
    ")\n",
    "state = strategy.initialize(rng)\n",
    "\n",
    "for t in range(100):\n",
    "    rng, rng_eval, rng_iter = jax.random.split(rng, 3)\n",
    "    x, state = strategy.ask(rng_iter, state)\n",
    "    x_re = reshaper.reshape(x)\n",
    "    fitness = evaluator.rollout(rng_eval, x_re).mean(axis=1)\n",
    "    fit_re = fit_shaper.apply(x, fitness)\n",
    "    state = strategy.tell(x, fit_re, state)\n",
    "\n",
    "    if (t + 1) % 20 == 0:\n",
    "        print(\n",
    "            t + 1,\n",
    "            fitness.mean(),\n",
    "            fitness.max(),\n",
    "            fitness.std(),\n",
    "            state.best_fitness,\n",
    "        )"
   ]
  },
  {
   "cell_type": "markdown",
   "metadata": {},
   "source": [
    "## Experimental (!!!) - Hypernetwork Encodings"
   ]
  },
  {
   "cell_type": "code",
   "execution_count": 4,
   "metadata": {},
   "outputs": [
    {
     "name": "stdout",
     "output_type": "stream",
     "text": [
      "ParameterReshaper: 2306 parameters detected for optimization.\n"
     ]
    },
    {
     "data": {
      "text/plain": [
       "2306"
      ]
     },
     "execution_count": 4,
     "metadata": {},
     "output_type": "execute_result"
    }
   ],
   "source": [
    "from evosax.experimental.decodings import HyperDecoder\n",
    "\n",
    "reshaper = HyperDecoder(\n",
    "        params,\n",
    "        hypernet_config={\n",
    "            \"num_latent_units\": 3,  # Latent units per module kernel/bias\n",
    "            \"num_hidden_units\": 2,  # Hidden dimensionality of a_i^j embedding\n",
    "        },\n",
    "    )\n",
    "reshaper.total_params"
   ]
  },
  {
   "cell_type": "code",
   "execution_count": 5,
   "metadata": {},
   "outputs": [
    {
     "name": "stdout",
     "output_type": "stream",
     "text": [
      "20 16.82375 41.625 7.145526 -41.625\n",
      "40 58.821247 200.0 74.27308 -200.0\n",
      "60 51.158123 200.0 69.18335 -200.0\n"
     ]
    }
   ],
   "source": [
    "strategy = DE(\n",
    "    num_dims=reshaper.total_params,\n",
    "    popsize=100,\n",
    ")\n",
    "state = strategy.initialize(rng)\n",
    "\n",
    "for t in range(60):\n",
    "    rng, rng_eval, rng_iter = jax.random.split(rng, 3)\n",
    "    x, state = strategy.ask(rng_iter, state)\n",
    "    x_re = reshaper.reshape(x)\n",
    "    fitness = evaluator.rollout(rng_eval, x_re).mean(axis=1)\n",
    "    fit_re = fit_shaper.apply(x, fitness)\n",
    "    state = strategy.tell(x, fit_re, state)\n",
    "\n",
    "    if (t + 1) % 20 == 0:\n",
    "        print(\n",
    "            t + 1,\n",
    "            fitness.mean(),\n",
    "            fitness.max(),\n",
    "            fitness.std(),\n",
    "            state.best_fitness\n",
    "            )"
   ]
  },
  {
   "cell_type": "code",
   "execution_count": null,
   "metadata": {},
   "outputs": [],
   "source": []
  }
 ],
 "metadata": {
  "kernelspec": {
   "display_name": "mle-toolbox",
   "language": "python",
   "name": "mle-toolbox"
  },
  "language_info": {
   "codemirror_mode": {
    "name": "ipython",
    "version": 3
   },
   "file_extension": ".py",
   "mimetype": "text/x-python",
   "name": "python",
   "nbconvert_exporter": "python",
   "pygments_lexer": "ipython3",
   "version": "3.9.7"
  }
 },
 "nbformat": 4,
 "nbformat_minor": 4
}
