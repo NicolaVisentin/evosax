{
 "cells": [
  {
   "cell_type": "markdown",
   "metadata": {},
   "source": [
    "# 09 - Batch Strategy Rollouts\n",
    "### [Last Update: June 2022][![Colab](https://colab.research.google.com/assets/colab-badge.svg)](https://colab.research.google.com/github/RobertTLange/evosax/blob/main/examples/09_exp_batch_es.ipynb)"
   ]
  },
  {
   "cell_type": "code",
   "execution_count": 1,
   "metadata": {},
   "outputs": [],
   "source": [
    "%matplotlib inline\n",
    "%load_ext autoreload\n",
    "%autoreload 2\n",
    "%config InlineBackend.figure_format = 'retina'\n",
    "\n",
    "!pip install -q git+https://github.com/RobertTLange/evosax.git@main\n",
    "!pip install -q gymnax"
   ]
  },
  {
   "cell_type": "markdown",
   "metadata": {},
   "source": [
    "## Experimental (!!!) - Subpopulation Batch ES Rollouts"
   ]
  },
  {
   "cell_type": "code",
   "execution_count": 2,
   "metadata": {},
   "outputs": [
    {
     "name": "stdout",
     "output_type": "stream",
     "text": [
      "ParameterReshaper: 4610 parameters detected for optimization.\n"
     ]
    }
   ],
   "source": [
    "import jax\n",
    "import jax.numpy as jnp\n",
    "from evosax import NetworkMapper\n",
    "from evosax.problems import GymnaxFitness\n",
    "from evosax.utils import ParameterReshaper, FitnessShaper\n",
    "\n",
    "rng = jax.random.PRNGKey(0)\n",
    "# Run Strategy on CartPole MLP\n",
    "evaluator = GymnaxFitness(\"CartPole-v1\", num_env_steps=200, num_rollouts=16)\n",
    "\n",
    "network = NetworkMapper[\"MLP\"](\n",
    "    num_hidden_units=64,\n",
    "    num_hidden_layers=2,\n",
    "    num_output_units=2,\n",
    "    hidden_activation=\"relu\",\n",
    "    output_activation=\"categorical\",\n",
    ")\n",
    "pholder = jnp.zeros((1, evaluator.input_shape[0]))\n",
    "params = network.init(\n",
    "    rng,\n",
    "    x=pholder,\n",
    "    rng=rng,\n",
    ")\n",
    "\n",
    "reshaper = ParameterReshaper(params)\n",
    "evaluator.set_apply_fn(network.apply)\n",
    "\n",
    "fit_shaper = FitnessShaper(maximize=True)\n"
   ]
  },
  {
   "cell_type": "code",
   "execution_count": 3,
   "metadata": {},
   "outputs": [],
   "source": [
    "from evosax.experimental.subpops import BatchStrategy\n",
    "\n",
    "strategy = BatchStrategy(\n",
    "    strategy_name=\"DE\",\n",
    "    num_dims=reshaper.total_params,\n",
    "    popsize=100,\n",
    "    num_subpops=5,\n",
    "    communication=\"best_subpop\",\n",
    ")\n",
    "params = strategy.default_params\n",
    "state = strategy.initialize(rng, params)"
   ]
  },
  {
   "cell_type": "code",
   "execution_count": 4,
   "metadata": {},
   "outputs": [
    {
     "name": "stderr",
     "output_type": "stream",
     "text": [
      "/Users/rob/anaconda3/envs/mle-toolbox/lib/python3.9/site-packages/flax/core/scope.py:740: FutureWarning: jax.tree_leaves is deprecated, and will be removed in a future release. Use jax.tree_util.tree_leaves instead.\n",
      "  abs_value_flat = jax.tree_leaves(abs_value)\n",
      "/Users/rob/anaconda3/envs/mle-toolbox/lib/python3.9/site-packages/flax/core/scope.py:741: FutureWarning: jax.tree_leaves is deprecated, and will be removed in a future release. Use jax.tree_util.tree_leaves instead.\n",
      "  value_flat = jax.tree_leaves(value)\n"
     ]
    },
    {
     "name": "stdout",
     "output_type": "stream",
     "text": [
      "1 23.370625 25.5 1.0780935 [-25.5 -25.5 -25.5 -25.5 -25.5]\n",
      "2 22.074375 29.375 2.6189167 [-29.375 -29.375 -29.375 -29.375 -29.375]\n",
      "3 20.88875 22.5625 0.74370164 [-29.375 -29.375 -29.375 -29.375 -29.375]\n",
      "4 24.71 33.3125 2.8831882 [-33.3125 -33.3125 -33.3125 -33.3125 -33.3125]\n",
      "5 21.94875 31.0625 3.4156966 [-33.3125 -33.3125 -33.3125 -33.3125 -33.3125]\n",
      "6 21.903124 44.5625 5.5148053 [-44.5625 -44.5625 -44.5625 -44.5625 -44.5625]\n",
      "7 30.741875 112.5625 14.554363 [-112.5625 -112.5625 -112.5625 -112.5625 -112.5625]\n",
      "8 34.178123 137.625 25.262201 [-137.625 -137.625 -137.625 -137.625 -137.625]\n",
      "9 40.82125 177.3125 33.683407 [-177.3125 -177.3125 -177.3125 -177.3125 -177.3125]\n",
      "10 51.761875 185.3125 50.306335 [-185.3125 -185.3125 -185.3125 -185.3125 -185.3125]\n",
      "11 62.724373 200.0 54.560562 [-200. -200. -200. -200. -200.]\n",
      "12 79.213745 200.0 65.029335 [-200. -200. -200. -200. -200.]\n",
      "13 77.94187 200.0 58.734848 [-200. -200. -200. -200. -200.]\n",
      "14 70.84062 200.0 59.714462 [-200. -200. -200. -200. -200.]\n",
      "15 93.917496 200.0 63.18898 [-200. -200. -200. -200. -200.]\n",
      "16 78.219376 200.0 66.59858 [-200. -200. -200. -200. -200.]\n",
      "17 97.18875 200.0 70.95799 [-200. -200. -200. -200. -200.]\n",
      "18 87.89125 200.0 68.28 [-200. -200. -200. -200. -200.]\n",
      "19 91.95187 200.0 68.39396 [-200. -200. -200. -200. -200.]\n",
      "20 91.15625 200.0 63.671494 [-200. -200. -200. -200. -200.]\n"
     ]
    }
   ],
   "source": [
    "for t in range(20):\n",
    "    rng, rng_eval, rng_iter = jax.random.split(rng, 3)\n",
    "    x, state = strategy.ask(rng_iter, state, params)\n",
    "    x_re = reshaper.reshape(x)\n",
    "    fitness = evaluator.rollout(rng_eval, x_re).mean(axis=1)\n",
    "    fit_re = fit_shaper.apply(x, fitness)\n",
    "    state = strategy.tell(x, fit_re, state, params)\n",
    "\n",
    "    if t % 1 == 0:\n",
    "        print(\n",
    "            t + 1,\n",
    "            fitness.mean(),\n",
    "            fitness.max(),\n",
    "            fitness.std(),\n",
    "            state.best_fitness,  # Best fitness in all subpops\n",
    "        )"
   ]
  },
  {
   "cell_type": "markdown",
   "metadata": {},
   "source": [
    "## Experimental (!!!) - Subpopulation Meta-Batch ES Rollouts"
   ]
  },
  {
   "cell_type": "code",
   "execution_count": 5,
   "metadata": {},
   "outputs": [
    {
     "data": {
      "text/plain": [
       "EvoParams(mu_eff=DeviceArray(1.6496499, dtype=float32), c_1=DeviceArray(0.15949409, dtype=float32), c_mu=DeviceArray(0.02899084, dtype=float32), c_sigma=DeviceArray(0.42194194, dtype=float32), d_sigma=DeviceArray(1.421942, dtype=float32), c_c=DeviceArray(0.63072497, dtype=float32), chi_n=DeviceArray(1.2542727, dtype=float32, weak_type=True), c_m=1.0, sigma_init=1.0, init_min=DeviceArray([0.8, 0.9], dtype=float32), init_max=DeviceArray([0.8, 0.9], dtype=float32), clip_min=-3.4028235e+38, clip_max=3.4028235e+38)"
      ]
     },
     "execution_count": 5,
     "metadata": {},
     "output_type": "execute_result"
    }
   ],
   "source": [
    "from evosax.experimental.subpops import MetaStrategy\n",
    "\n",
    "meta_strategy = MetaStrategy(\n",
    "        meta_strategy_name=\"CMA_ES\",\n",
    "        inner_strategy_name=\"DE\",\n",
    "        meta_params=[\"diff_w\", \"cross_over_rate\"],\n",
    "        num_dims=reshaper.total_params,\n",
    "        popsize=100,\n",
    "        num_subpops=5,\n",
    "        meta_strategy_kwargs={\"elite_ratio\": 0.5},\n",
    "    )\n",
    "meta_es_params = meta_strategy.default_params_meta\n",
    "meta_es_params.replace(\n",
    "    clip_min=jnp.array([0, 0]), clip_max=jnp.array([2, 1])\n",
    ")\n",
    "meta_es_params"
   ]
  },
  {
   "cell_type": "code",
   "execution_count": 6,
   "metadata": {},
   "outputs": [
    {
     "name": "stdout",
     "output_type": "stream",
     "text": [
      "1 21.616875 29.6875 3.9452865 [-28.8125 -22.8125 -28.8125 -27.8125 -29.6875]\n",
      "[ 2.8802464  -0.15859854  1.0776247   1.7196195   0.8666483 ]\n",
      "[ 3.227366    2.2789712   1.0106008   0.59644413 -0.31195474]\n",
      "====================\n",
      "2 18.93375 43.125 5.404836 [-43.125  -22.8125 -28.8125 -27.8125 -33.    ]\n",
      "[0.3164339  0.38105685 1.4904149  0.54773945 1.7374508 ]\n",
      "[ 1.2298826   0.5813654   0.74932307  0.25477123 -0.1159527 ]\n",
      "====================\n",
      "3 18.708124 51.875 6.0304956 [-43.125  -22.8125 -28.8125 -27.8125 -51.875 ]\n",
      "[ 1.4259593  -0.06665286  0.8067391   0.25669232  1.0614586 ]\n",
      "[0.86134017 0.4752618  0.9046646  0.07983232 0.47602725]\n",
      "====================\n",
      "4 24.71875 72.1875 13.535652 [-72.1875 -22.875  -56.875  -27.8125 -51.875 ]\n",
      "[ 0.28945768  1.2563071   1.3974397  -0.01699698  0.9223877 ]\n",
      "[ 1.0732273   1.7199515   1.1780126  -0.05289584  1.3038926 ]\n",
      "====================\n",
      "5 33.605625 95.875 18.421816 [-77.25   -25.3125 -95.875  -27.8125 -65.25  ]\n",
      "[ 0.14544031  0.43611148 -0.20747858  0.57340264  1.0367332 ]\n",
      "[0.9635209 1.6865335 1.6758163 1.1580497 1.3674667]\n",
      "====================\n",
      "6 42.816875 128.75 32.670662 [ -77.25    -25.3125 -115.25    -27.8125 -128.75  ]\n",
      "[ 0.08342898  0.67926586 -0.1300232  -0.3691502  -0.02634414]\n",
      "[0.45465958 0.83480287 1.0157542  0.8281425  0.6157408 ]\n",
      "====================\n",
      "7 56.0275 193.0 39.159534 [ -77.25    -25.3125 -118.125   -27.8125 -193.    ]\n",
      "[-0.24555443 -0.8850033  -0.8401575   0.05586395 -0.04249462]\n",
      "[1.6119337 1.5619099 1.2761257 0.8349427 0.9789471]\n",
      "====================\n",
      "8 56.178123 165.375 43.236973 [ -77.3125  -25.3125 -124.9375  -27.8125 -193.    ]\n",
      "[-0.98492557 -0.86825895 -0.33608255  0.38787222 -1.9942504 ]\n",
      "[ 0.81199455  1.1266108   1.2834361  -0.16380107  1.1941836 ]\n",
      "====================\n",
      "9 68.875626 198.8125 51.561283 [ -92.5     -25.3125 -135.1875  -35.3125 -198.8125]\n",
      "[-0.4847134   0.47783107 -0.89882386 -1.1813067   0.00290191]\n",
      "[0.79446524 0.9552251  1.3324108  1.1341367  0.19537002]\n",
      "====================\n",
      "10 83.39312 188.5 61.527493 [ -94.75    -25.3125 -135.1875  -61.75   -198.8125]\n",
      "[-0.77939796 -1.6826111  -0.7705166  -0.9882674  -0.05761534]\n",
      "[1.1494378  1.0059689  0.5961797  0.99944425 1.2946107 ]\n",
      "====================\n",
      "11 91.49812 199.9375 60.184185 [-111.5     -25.3125 -135.1875  -61.75   -199.9375]\n",
      "[-0.3965947  -0.35326457 -1.0540515  -0.1746826  -0.91510683]\n",
      "[1.1304159 1.1854235 1.8765631 1.2624831 0.946526 ]\n",
      "====================\n",
      "12 84.34187 200.0 58.642075 [-111.5     -25.3125 -135.1875  -61.75   -200.    ]\n",
      "[-1.4148643   0.12005615 -0.96710926 -1.6070058  -0.6361049 ]\n",
      "[1.2130218  0.76716125 1.7269349  1.4215404  0.71309876]\n",
      "====================\n",
      "13 93.1525 200.0 60.367928 [-111.5     -25.3125 -135.1875  -64.875  -200.    ]\n",
      "[-0.84065133 -0.6328039  -0.7448091  -0.8380245   0.0232293 ]\n",
      "[1.3632345 0.7132847 0.772285  1.1840295 0.8128484]\n",
      "====================\n",
      "14 86.83937 198.875 57.6207 [-111.5     -30.4375 -135.1875 -122.3125 -200.    ]\n",
      "[ 0.10118121  0.22213742  0.7687956  -0.17362231 -0.85057294]\n",
      "[0.62337047 0.6910131  0.48799083 0.718746   1.0199271 ]\n",
      "====================\n",
      "15 84.429375 197.0 58.880604 [-111.5     -30.4375 -135.1875 -122.3125 -200.    ]\n",
      "[-0.96605074 -0.8807     -0.12398309 -0.28284967 -1.3727713 ]\n",
      "[1.400204   0.79812896 0.9914225  0.1789599  0.8930752 ]\n",
      "====================\n",
      "16 92.986244 200.0 62.374756 [-111.5     -30.4375 -135.1875 -132.1875 -200.    ]\n",
      "[-0.51477337 -1.2759019  -0.94262683 -2.0204499  -0.76601934]\n",
      "[0.83164775 0.91906154 1.1078897  1.514826   0.91927046]\n",
      "====================\n",
      "17 93.721245 198.4375 55.060562 [-111.5     -30.4375 -136.75   -134.0625 -200.    ]\n",
      "[-1.402627   -1.8582026  -1.1735668  -0.48716038 -0.7432458 ]\n",
      "[0.8225725 1.0160079 1.0867357 0.9976649 0.7407608]\n",
      "====================\n",
      "18 88.76688 198.5625 61.05644 [-111.5     -30.4375 -136.75   -134.0625 -200.    ]\n",
      "[-1.3292211  -0.89103025 -0.6072153  -1.8591257  -0.67812806]\n",
      "[1.1677566  0.80875444 0.7512605  1.1365314  0.77885437]\n",
      "====================\n",
      "19 85.29375 200.0 59.2496 [-112.9375  -30.4375 -136.75   -134.0625 -200.    ]\n",
      "[-0.52911305 -0.7039621  -0.93630564 -0.7017484  -0.66427374]\n",
      "[0.6162471  0.66066074 0.83631736 0.49893203 0.6464445 ]\n",
      "====================\n",
      "20 93.38 200.0 61.778324 [-112.9375  -30.4375 -136.75   -134.0625 -200.    ]\n",
      "[-0.7915977  -0.8703347  -0.805449   -1.2995615  -0.73996913]\n",
      "[0.8317942  0.8229672  0.7720911  0.9901829  0.76902413]\n",
      "====================\n"
     ]
    }
   ],
   "source": [
    "# META: Initialize the meta strategy state\n",
    "inner_es_params = meta_strategy.default_params\n",
    "meta_state = meta_strategy.initialize_meta(rng, meta_es_params)\n",
    "\n",
    "# META: Get altered inner es hyperparams (placeholder for init)\n",
    "inner_es_params, meta_state = meta_strategy.ask_meta(\n",
    "    rng, meta_state, meta_es_params, inner_es_params\n",
    ")\n",
    "\n",
    "# INNER: Initialize the inner batch ES\n",
    "state = meta_strategy.initialize(rng, inner_es_params)\n",
    "\n",
    "for t in range(20):\n",
    "    rng, rng_eval, rng_iter = jax.random.split(rng, 3)\n",
    "\n",
    "    # META: Get altered inner es hyperparams\n",
    "    inner_es_params, meta_state = meta_strategy.ask_meta(\n",
    "    rng, meta_state, meta_es_params, inner_es_params\n",
    "    )\n",
    "\n",
    "    # INNER: Ask for inner candidate params to evaluate on problem\n",
    "    x, state = meta_strategy.ask(rng_iter, state, inner_es_params)\n",
    "\n",
    "    # INNER: Update using pseudo fitness\n",
    "    x_re = reshaper.reshape(x)\n",
    "    fitness = evaluator.rollout(rng_eval, x_re).mean(axis=1)\n",
    "    fit_re = fit_shaper.apply(x, fitness)\n",
    "    state = meta_strategy.tell(x, fit_re, state, inner_es_params)\n",
    "\n",
    "    # META: Update the meta strategy\n",
    "    meta_state = meta_strategy.tell_meta(\n",
    "        inner_es_params, fit_re, meta_state, meta_es_params\n",
    "    )\n",
    "\n",
    "    if t % 1 == 0:\n",
    "        print(\n",
    "            t + 1,\n",
    "            fitness.mean(),\n",
    "            fitness.max(),\n",
    "            fitness.std(),\n",
    "            state.best_fitness,  # Best fitness in all subpops\n",
    "        )\n",
    "        print(inner_es_params.diff_w)\n",
    "        print(inner_es_params.cross_over_rate)\n",
    "        print(20 * \"=\")\n"
   ]
  },
  {
   "cell_type": "code",
   "execution_count": null,
   "metadata": {},
   "outputs": [],
   "source": []
  }
 ],
 "metadata": {
  "kernelspec": {
   "display_name": "mle-toolbox",
   "language": "python",
   "name": "mle-toolbox"
  },
  "language_info": {
   "codemirror_mode": {
    "name": "ipython",
    "version": 3
   },
   "file_extension": ".py",
   "mimetype": "text/x-python",
   "name": "python",
   "nbconvert_exporter": "python",
   "pygments_lexer": "ipython3",
   "version": "3.9.7"
  }
 },
 "nbformat": 4,
 "nbformat_minor": 4
}
